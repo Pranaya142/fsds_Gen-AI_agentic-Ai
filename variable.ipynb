{
 "cells": [
  {
   "cell_type": "code",
   "execution_count": null,
   "id": "2a3ded1e-f9fb-4573-abf6-ca2d07fb608d",
   "metadata": {},
   "outputs": [],
   "source": [
    "# variable\n"
   ]
  },
  {
   "cell_type": "code",
   "execution_count": 1,
   "id": "6b06bcce-4021-46cd-9486-721ad7fc21f4",
   "metadata": {},
   "outputs": [
    {
     "data": {
      "text/plain": [
       "10"
      ]
     },
     "execution_count": 1,
     "metadata": {},
     "output_type": "execute_result"
    }
   ],
   "source": [
    "i = 10\n",
    "i"
   ]
  },
  {
   "cell_type": "code",
   "execution_count": 2,
   "id": "f7be42aa-b48c-4538-a769-344e1be93a37",
   "metadata": {},
   "outputs": [
    {
     "data": {
      "text/plain": [
       "int"
      ]
     },
     "execution_count": 2,
     "metadata": {},
     "output_type": "execute_result"
    }
   ],
   "source": [
    "type(i)"
   ]
  },
  {
   "cell_type": "code",
   "execution_count": 3,
   "id": "46542b54-3a55-4408-8740-9a3eb65bde9f",
   "metadata": {},
   "outputs": [
    {
     "data": {
      "text/plain": [
       "3.56"
      ]
     },
     "execution_count": 3,
     "metadata": {},
     "output_type": "execute_result"
    }
   ],
   "source": [
    "f = 3.56\n",
    "f"
   ]
  },
  {
   "cell_type": "code",
   "execution_count": 4,
   "id": "eb83badc-0cec-43aa-8d63-f41da30780f6",
   "metadata": {},
   "outputs": [
    {
     "data": {
      "text/plain": [
       "float"
      ]
     },
     "execution_count": 4,
     "metadata": {},
     "output_type": "execute_result"
    }
   ],
   "source": [
    "type(f)"
   ]
  },
  {
   "cell_type": "code",
   "execution_count": 7,
   "id": "154212f8-d8d1-42ba-a0b6-ad17ae37e33d",
   "metadata": {},
   "outputs": [
    {
     "data": {
      "text/plain": [
       "10"
      ]
     },
     "execution_count": 7,
     "metadata": {},
     "output_type": "execute_result"
    }
   ],
   "source": [
    "i = 10 \n",
    "i1 = 20\n",
    "i"
   ]
  },
  {
   "cell_type": "code",
   "execution_count": 14,
   "id": "1d2e5b38-9fd5-4370-845d-2e9097650c37",
   "metadata": {},
   "outputs": [
    {
     "data": {
      "text/plain": [
       "140703626701528"
      ]
     },
     "execution_count": 14,
     "metadata": {},
     "output_type": "execute_result"
    }
   ],
   "source": [
    "id(i)\n"
   ]
  },
  {
   "cell_type": "code",
   "execution_count": 11,
   "id": "904a4690-4f36-4aa7-8300-c256acc7cfe8",
   "metadata": {},
   "outputs": [
    {
     "data": {
      "text/plain": [
       "140703626701848"
      ]
     },
     "execution_count": 11,
     "metadata": {},
     "output_type": "execute_result"
    }
   ],
   "source": [
    "id(i1)"
   ]
  },
  {
   "cell_type": "code",
   "execution_count": 15,
   "id": "ee1d7ea6-23c4-4cd8-8b37-c05a340c39c7",
   "metadata": {},
   "outputs": [
    {
     "data": {
      "text/plain": [
       "True"
      ]
     },
     "execution_count": 15,
     "metadata": {},
     "output_type": "execute_result"
    }
   ],
   "source": [
    "i = True\n",
    "i"
   ]
  },
  {
   "cell_type": "code",
   "execution_count": 16,
   "id": "285399fa-63d0-429b-a158-62af2a85e035",
   "metadata": {},
   "outputs": [
    {
     "data": {
      "text/plain": [
       "bool"
      ]
     },
     "execution_count": 16,
     "metadata": {},
     "output_type": "execute_result"
    }
   ],
   "source": [
    "type(i)"
   ]
  },
  {
   "cell_type": "code",
   "execution_count": 18,
   "id": "d02d4fc1-4e13-4753-86f3-b7cfb8406ac9",
   "metadata": {},
   "outputs": [
    {
     "data": {
      "text/plain": [
       "complex"
      ]
     },
     "execution_count": 18,
     "metadata": {},
     "output_type": "execute_result"
    }
   ],
   "source": [
    "c = 10+3j\n",
    "type(c)"
   ]
  },
  {
   "cell_type": "code",
   "execution_count": 19,
   "id": "b88b28b8-24a2-42e7-aa71-0254a2e1aa7d",
   "metadata": {},
   "outputs": [
    {
     "data": {
      "text/plain": [
       "str"
      ]
     },
     "execution_count": 19,
     "metadata": {},
     "output_type": "execute_result"
    }
   ],
   "source": [
    "str = '4'\n",
    "type(str)"
   ]
  },
  {
   "cell_type": "code",
   "execution_count": 20,
   "id": "72723b87-429f-4210-bc12-18d4f56f556f",
   "metadata": {},
   "outputs": [
    {
     "data": {
      "text/plain": [
       "str"
      ]
     },
     "execution_count": 20,
     "metadata": {},
     "output_type": "execute_result"
    }
   ],
   "source": [
    "s = 'python'\n",
    "type(s)"
   ]
  },
  {
   "cell_type": "code",
   "execution_count": 26,
   "id": "ea56fa1a-c5d2-4310-81c4-dbfe184dbc0b",
   "metadata": {},
   "outputs": [
    {
     "data": {
      "text/plain": [
       "str"
      ]
     },
     "execution_count": 26,
     "metadata": {},
     "output_type": "execute_result"
    }
   ],
   "source": [
    "_i2 = 20\n",
    "type(_i)"
   ]
  },
  {
   "cell_type": "code",
   "execution_count": 25,
   "id": "a523fecf-e915-4ec5-add1-ac5ec30f610e",
   "metadata": {},
   "outputs": [
    {
     "data": {
      "text/plain": [
       "int"
      ]
     },
     "execution_count": 25,
     "metadata": {},
     "output_type": "execute_result"
    }
   ],
   "source": [
    "_p1 = 90\n",
    "type(_p1)"
   ]
  },
  {
   "cell_type": "code",
   "execution_count": 28,
   "id": "a4b4b51d-b260-4538-9b8d-30f00e794990",
   "metadata": {},
   "outputs": [
    {
     "name": "stdout",
     "output_type": "stream",
     "text": [
      "naresh it  python classes\n"
     ]
    }
   ],
   "source": [
    "first_name = 'naresh it'\n",
    "last_name = 'python classes'\n",
    "name = first_name +  \"  \" +  last_name\n",
    "print(name)"
   ]
  },
  {
   "cell_type": "code",
   "execution_count": 29,
   "id": "5d37370d-f6ae-43eb-a1c3-3f1d58bb401f",
   "metadata": {},
   "outputs": [
    {
     "name": "stdout",
     "output_type": "stream",
     "text": [
      "1600\n"
     ]
    }
   ],
   "source": [
    "l = 40\n",
    "h = 40\n",
    "area_rect = l * h\n",
    "print(area_rect)"
   ]
  },
  {
   "cell_type": "code",
   "execution_count": 30,
   "id": "6c66c1fe-ae10-4288-b099-b3be37541d53",
   "metadata": {},
   "outputs": [
    {
     "name": "stdout",
     "output_type": "stream",
     "text": [
      "My name is   python invented in 1991\n"
     ]
    }
   ],
   "source": [
    "n = ' python'\n",
    "i = 1991\n",
    "print('My name is ',n,'invented in',i)"
   ]
  },
  {
   "cell_type": "code",
   "execution_count": 33,
   "id": "b7c4dd39-8dbb-4a39-9d42-bd4807d3ba61",
   "metadata": {},
   "outputs": [
    {
     "name": "stdout",
     "output_type": "stream",
     "text": [
      " Hello My name is  python, and invented in 1991 \n"
     ]
    }
   ],
   "source": [
    "print(' Hello My name is {}, and invented in {} '.format(n,i))"
   ]
  },
  {
   "cell_type": "code",
   "execution_count": 34,
   "id": "140cd4ea-fb9c-49cf-9f70-8d9e93af424c",
   "metadata": {},
   "outputs": [
    {
     "name": "stdout",
     "output_type": "stream",
     "text": [
      "My name is  python and invented in 1991\n"
     ]
    }
   ],
   "source": [
    "print(f'My name is {n} and invented in {i}')"
   ]
  },
  {
   "cell_type": "code",
   "execution_count": 35,
   "id": "38645a91-cb35-4295-933a-52e88315de62",
   "metadata": {},
   "outputs": [
    {
     "name": "stdout",
     "output_type": "stream",
     "text": [
      "naresh it python classes\n"
     ]
    }
   ],
   "source": [
    "first_name = 'naresh it'\n",
    "last_name = 'python classes'\n",
    "print(first_name,end =' ')\n",
    "print(last_name)"
   ]
  },
  {
   "cell_type": "code",
   "execution_count": 36,
   "id": "a2acc096-eecc-4a16-994c-7217839cd3e1",
   "metadata": {},
   "outputs": [
    {
     "name": "stdout",
     "output_type": "stream",
     "text": [
      "Hai@how@are@you\n"
     ]
    }
   ],
   "source": [
    "print('Hai','how','are','you',sep='@')"
   ]
  },
  {
   "cell_type": "code",
   "execution_count": null,
   "id": "1775c033-f35f-43a6-b235-47a1d1da8f67",
   "metadata": {},
   "outputs": [],
   "source": []
  }
 ],
 "metadata": {
  "kernelspec": {
   "display_name": "Python [conda env:base] *",
   "language": "python",
   "name": "conda-base-py"
  },
  "language_info": {
   "codemirror_mode": {
    "name": "ipython",
    "version": 3
   },
   "file_extension": ".py",
   "mimetype": "text/x-python",
   "name": "python",
   "nbconvert_exporter": "python",
   "pygments_lexer": "ipython3",
   "version": "3.12.7"
  }
 },
 "nbformat": 4,
 "nbformat_minor": 5
}
