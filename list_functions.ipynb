{
 "cells": [
  {
   "cell_type": "code",
   "execution_count": 3,
   "id": "f42011d3-fa03-40ee-a47a-e088c0b13aa0",
   "metadata": {},
   "outputs": [],
   "source": [
    "l =  []\n"
   ]
  },
  {
   "cell_type": "code",
   "execution_count": 4,
   "id": "df22379a-0969-465d-8dc2-46e4be5e56a1",
   "metadata": {},
   "outputs": [],
   "source": [
    "l = [10,20,30,40,50]"
   ]
  },
  {
   "cell_type": "code",
   "execution_count": 5,
   "id": "c28a2d2d-242d-4c19-a033-96f9e1c5bbf9",
   "metadata": {},
   "outputs": [
    {
     "data": {
      "text/plain": [
       "[10, 20, 30, 40, 50]"
      ]
     },
     "execution_count": 5,
     "metadata": {},
     "output_type": "execute_result"
    }
   ],
   "source": [
    "l"
   ]
  },
  {
   "cell_type": "code",
   "execution_count": 14,
   "id": "a89ab981-b2c2-4f74-bbfd-9362df57e1dc",
   "metadata": {},
   "outputs": [
    {
     "data": {
      "text/plain": [
       "[10, 20, 30, 40, 50, 20, 20, 'nit', (1+2j), True, 3.6, 50]"
      ]
     },
     "execution_count": 14,
     "metadata": {},
     "output_type": "execute_result"
    }
   ],
   "source": [
    "l.append(50)    # add values at last\n",
    "l"
   ]
  },
  {
   "cell_type": "code",
   "execution_count": 16,
   "id": "bd750647-90cb-4e38-ad24-80c67cfae448",
   "metadata": {},
   "outputs": [
    {
     "data": {
      "text/plain": [
       "[10,\n",
       " 20,\n",
       " 30,\n",
       " 40,\n",
       " 50,\n",
       " 20,\n",
       " 20,\n",
       " 'nit',\n",
       " (1+2j),\n",
       " True,\n",
       " 3.6,\n",
       " 50,\n",
       " 'nit',\n",
       " (1+2j),\n",
       " True,\n",
       " 3.6,\n",
       " 'nit',\n",
       " (1+2j),\n",
       " True,\n",
       " 3.6]"
      ]
     },
     "execution_count": 16,
     "metadata": {},
     "output_type": "execute_result"
    }
   ],
   "source": [
    "l.append('nit')\n",
    "l.append(1+2j)\n",
    "l.append(True)\n",
    "l.append(3.6)\n",
    "l"
   ]
  },
  {
   "cell_type": "code",
   "execution_count": 5,
   "id": "4ae53395-3777-4e20-bb4c-900457f09d2c",
   "metadata": {},
   "outputs": [
    {
     "ename": "NameError",
     "evalue": "name 'l' is not defined",
     "output_type": "error",
     "traceback": [
      "\u001b[1;31m---------------------------------------------------------------------------\u001b[0m",
      "\u001b[1;31mNameError\u001b[0m                                 Traceback (most recent call last)",
      "Cell \u001b[1;32mIn[5], line 1\u001b[0m\n\u001b[1;32m----> 1\u001b[0m l\u001b[38;5;241m.\u001b[39mcount(\u001b[38;5;241m20\u001b[39m)\n\u001b[0;32m      2\u001b[0m l\n",
      "\u001b[1;31mNameError\u001b[0m: name 'l' is not defined"
     ]
    }
   ],
   "source": [
    "l.count(20)\n",
    "l"
   ]
  },
  {
   "cell_type": "code",
   "execution_count": 6,
   "id": "f9461880-2a78-46b7-b56f-0721a5e5549b",
   "metadata": {},
   "outputs": [
    {
     "ename": "NameError",
     "evalue": "name 'l' is not defined",
     "output_type": "error",
     "traceback": [
      "\u001b[1;31m---------------------------------------------------------------------------\u001b[0m",
      "\u001b[1;31mNameError\u001b[0m                                 Traceback (most recent call last)",
      "Cell \u001b[1;32mIn[6], line 1\u001b[0m\n\u001b[1;32m----> 1\u001b[0m l\u001b[38;5;241m.\u001b[39mcount(\u001b[38;5;241m50\u001b[39m)\n",
      "\u001b[1;31mNameError\u001b[0m: name 'l' is not defined"
     ]
    }
   ],
   "source": [
    "l.count(50)"
   ]
  },
  {
   "cell_type": "code",
   "execution_count": 20,
   "id": "c189d65b-08f6-47a7-b1b3-3ebb0018f871",
   "metadata": {},
   "outputs": [
    {
     "data": {
      "text/plain": [
       "1"
      ]
     },
     "execution_count": 20,
     "metadata": {},
     "output_type": "execute_result"
    }
   ],
   "source": [
    "l.index(20)"
   ]
  },
  {
   "cell_type": "code",
   "execution_count": 21,
   "id": "fd2dc439-8c8c-4a93-9f42-a7e994e656cc",
   "metadata": {},
   "outputs": [
    {
     "data": {
      "text/plain": [
       "8"
      ]
     },
     "execution_count": 21,
     "metadata": {},
     "output_type": "execute_result"
    }
   ],
   "source": [
    "l.index(1+2j)"
   ]
  },
  {
   "cell_type": "code",
   "execution_count": 22,
   "id": "94bcd023-8031-4f0f-9164-5d206b567d4b",
   "metadata": {},
   "outputs": [
    {
     "data": {
      "text/plain": [
       "[10,\n",
       " 20,\n",
       " 30,\n",
       " 40,\n",
       " 50,\n",
       " 20,\n",
       " 20,\n",
       " 'nit',\n",
       " (1+2j),\n",
       " True,\n",
       " 3.6,\n",
       " 50,\n",
       " 'nit',\n",
       " (1+2j),\n",
       " True,\n",
       " 3.6,\n",
       " 'nit',\n",
       " (1+2j),\n",
       " True,\n",
       " 3.6]"
      ]
     },
     "execution_count": 22,
     "metadata": {},
     "output_type": "execute_result"
    }
   ],
   "source": [
    "l[:]"
   ]
  },
  {
   "cell_type": "code",
   "execution_count": 4,
   "id": "ca57fa0c-8af4-496c-9970-f2ced9dc4e5d",
   "metadata": {},
   "outputs": [
    {
     "ename": "NameError",
     "evalue": "name 'l' is not defined",
     "output_type": "error",
     "traceback": [
      "\u001b[1;31m---------------------------------------------------------------------------\u001b[0m",
      "\u001b[1;31mNameError\u001b[0m                                 Traceback (most recent call last)",
      "Cell \u001b[1;32mIn[4], line 1\u001b[0m\n\u001b[1;32m----> 1\u001b[0m l\u001b[38;5;241m.\u001b[39mpop()\n\u001b[0;32m      2\u001b[0m l\n",
      "\u001b[1;31mNameError\u001b[0m: name 'l' is not defined"
     ]
    }
   ],
   "source": [
    "l.pop()\n",
    "l"
   ]
  },
  {
   "cell_type": "code",
   "execution_count": 7,
   "id": "7af86199-d423-40fd-bb96-67ae945ae72f",
   "metadata": {},
   "outputs": [
    {
     "ename": "NameError",
     "evalue": "name 'l' is not defined",
     "output_type": "error",
     "traceback": [
      "\u001b[1;31m---------------------------------------------------------------------------\u001b[0m",
      "\u001b[1;31mNameError\u001b[0m                                 Traceback (most recent call last)",
      "Cell \u001b[1;32mIn[7], line 1\u001b[0m\n\u001b[1;32m----> 1\u001b[0m l\u001b[38;5;241m.\u001b[39mpop()\n\u001b[0;32m      2\u001b[0m l\n",
      "\u001b[1;31mNameError\u001b[0m: name 'l' is not defined"
     ]
    }
   ],
   "source": [
    "l.pop()\n",
    "l"
   ]
  },
  {
   "cell_type": "code",
   "execution_count": 8,
   "id": "1f22205e-6fbd-484a-beda-362573829607",
   "metadata": {},
   "outputs": [
    {
     "data": {
      "text/plain": [
       "[10, 20, 30, 40, 50]"
      ]
     },
     "execution_count": 8,
     "metadata": {},
     "output_type": "execute_result"
    }
   ],
   "source": [
    "l = [10,20,30,40,50]\n",
    "l"
   ]
  },
  {
   "cell_type": "code",
   "execution_count": 9,
   "id": "bde25c43-00c7-4968-b247-ddcece34ba8b",
   "metadata": {},
   "outputs": [
    {
     "data": {
      "text/plain": [
       "[10, 20, 30, 40]"
      ]
     },
     "execution_count": 9,
     "metadata": {},
     "output_type": "execute_result"
    }
   ],
   "source": [
    "l.pop()\n",
    "l"
   ]
  },
  {
   "cell_type": "code",
   "execution_count": 10,
   "id": "9207b934-a67a-4941-8248-6d2d85c59aa4",
   "metadata": {},
   "outputs": [
    {
     "data": {
      "text/plain": [
       "[10, 20, 40]"
      ]
     },
     "execution_count": 10,
     "metadata": {},
     "output_type": "execute_result"
    }
   ],
   "source": [
    "l.pop(2)\n",
    "l"
   ]
  },
  {
   "cell_type": "code",
   "execution_count": 11,
   "id": "b1282a53-4dea-4940-800c-de0e0a9b7398",
   "metadata": {},
   "outputs": [
    {
     "ename": "NameError",
     "evalue": "name 'l' is not defined",
     "output_type": "error",
     "traceback": [
      "\u001b[1;31m---------------------------------------------------------------------------\u001b[0m",
      "\u001b[1;31mNameError\u001b[0m                                 Traceback (most recent call last)",
      "Cell \u001b[1;32mIn[11], line 2\u001b[0m\n\u001b[0;32m      1\u001b[0m \u001b[38;5;28;01mdel\u001b[39;00m l\n\u001b[1;32m----> 2\u001b[0m l\n",
      "\u001b[1;31mNameError\u001b[0m: name 'l' is not defined"
     ]
    }
   ],
   "source": [
    "del l\n",
    "l"
   ]
  },
  {
   "cell_type": "code",
   "execution_count": 12,
   "id": "ea902b7e-902c-47d9-a1dd-819b3e74122a",
   "metadata": {},
   "outputs": [
    {
     "data": {
      "text/plain": [
       "[10, 20, 30, 40, 50]"
      ]
     },
     "execution_count": 12,
     "metadata": {},
     "output_type": "execute_result"
    }
   ],
   "source": [
    "l = [10,20,30,40,50]\n",
    "l"
   ]
  },
  {
   "cell_type": "code",
   "execution_count": 13,
   "id": "10ceeef9-c7c3-4c30-b54a-a819fab969b3",
   "metadata": {},
   "outputs": [
    {
     "data": {
      "text/plain": [
       "[]"
      ]
     },
     "execution_count": 13,
     "metadata": {},
     "output_type": "execute_result"
    }
   ],
   "source": [
    "l.clear()\n",
    "l"
   ]
  },
  {
   "cell_type": "code",
   "execution_count": 14,
   "id": "0b92495f-d4de-4259-9942-f733c787ee3b",
   "metadata": {},
   "outputs": [
    {
     "data": {
      "text/plain": [
       "[10, 20, 30, 40, 50]"
      ]
     },
     "execution_count": 14,
     "metadata": {},
     "output_type": "execute_result"
    }
   ],
   "source": [
    "l = [10,20,30,40,50]\n",
    "l"
   ]
  },
  {
   "cell_type": "code",
   "execution_count": 16,
   "id": "ba2aa9eb-8ea9-4f71-aedb-7ec920d06b60",
   "metadata": {},
   "outputs": [
    {
     "data": {
      "text/plain": [
       "[10, 20, 30, 40, 50]"
      ]
     },
     "execution_count": 16,
     "metadata": {},
     "output_type": "execute_result"
    }
   ],
   "source": [
    "l1 = l.copy()\n",
    "l1"
   ]
  },
  {
   "cell_type": "code",
   "execution_count": 18,
   "id": "99bfee00-6871-4f0c-968d-78b28843c6e9",
   "metadata": {},
   "outputs": [
    {
     "data": {
      "text/plain": [
       "[10, 20, 15, 30, 40, 50]"
      ]
     },
     "execution_count": 18,
     "metadata": {},
     "output_type": "execute_result"
    }
   ],
   "source": [
    "l1.insert(2,15)    # insert arg between the argumnets\n",
    "l1"
   ]
  },
  {
   "cell_type": "code",
   "execution_count": 19,
   "id": "5668763a-05c5-4e9c-ab61-2d0866874163",
   "metadata": {},
   "outputs": [
    {
     "data": {
      "text/plain": [
       "6"
      ]
     },
     "execution_count": 19,
     "metadata": {},
     "output_type": "execute_result"
    }
   ],
   "source": [
    "len(l1)"
   ]
  },
  {
   "cell_type": "code",
   "execution_count": 20,
   "id": "9d3dddab-bbc8-40fe-9a24-114f773ff520",
   "metadata": {},
   "outputs": [
    {
     "data": {
      "text/plain": [
       "0"
      ]
     },
     "execution_count": 20,
     "metadata": {},
     "output_type": "execute_result"
    }
   ],
   "source": [
    "l.index(10)"
   ]
  },
  {
   "cell_type": "code",
   "execution_count": 21,
   "id": "a59d4496-1841-48d2-b4e6-a592adabcea8",
   "metadata": {},
   "outputs": [
    {
     "data": {
      "text/plain": [
       "False"
      ]
     },
     "execution_count": 21,
     "metadata": {},
     "output_type": "execute_result"
    }
   ],
   "source": [
    "l == l1"
   ]
  },
  {
   "cell_type": "code",
   "execution_count": 22,
   "id": "55d3da08-f31b-40a1-a132-44d247510d1e",
   "metadata": {},
   "outputs": [
    {
     "data": {
      "text/plain": [
       "True"
      ]
     },
     "execution_count": 22,
     "metadata": {},
     "output_type": "execute_result"
    }
   ],
   "source": [
    "l != l1"
   ]
  },
  {
   "cell_type": "code",
   "execution_count": 23,
   "id": "fa7e778e-49b9-477c-a285-74bb275270fc",
   "metadata": {},
   "outputs": [
    {
     "data": {
      "text/plain": [
       "[10, 20, 15, 30, 40, 50]"
      ]
     },
     "execution_count": 23,
     "metadata": {},
     "output_type": "execute_result"
    }
   ],
   "source": [
    "l1[:]    #slicing (prints all arguments in the list)"
   ]
  },
  {
   "cell_type": "code",
   "execution_count": 24,
   "id": "1651824f-07e1-4ca9-8404-4a71adaddc4f",
   "metadata": {},
   "outputs": [
    {
     "data": {
      "text/plain": [
       "[15, 30, 40, 50]"
      ]
     },
     "execution_count": 24,
     "metadata": {},
     "output_type": "execute_result"
    }
   ],
   "source": [
    "l1[2:]     #slicing prints the arg from 2nd index to last of list"
   ]
  },
  {
   "cell_type": "code",
   "execution_count": 27,
   "id": "b035d71c-6a03-4900-85ee-6df07ef754fe",
   "metadata": {},
   "outputs": [
    {
     "data": {
      "text/plain": [
       "[10, 20, 15, 30, 40]"
      ]
     },
     "execution_count": 27,
     "metadata": {},
     "output_type": "execute_result"
    }
   ],
   "source": [
    "l1[:-1]"
   ]
  },
  {
   "cell_type": "code",
   "execution_count": 28,
   "id": "23a5f57f-c903-45d2-b681-06062b753172",
   "metadata": {},
   "outputs": [
    {
     "data": {
      "text/plain": [
       "[10, 20, 15, 30, 40, 50, 'nit']"
      ]
     },
     "execution_count": 28,
     "metadata": {},
     "output_type": "execute_result"
    }
   ],
   "source": [
    "l1.append('nit')\n",
    "l1"
   ]
  },
  {
   "cell_type": "code",
   "execution_count": 29,
   "id": "25f86123-d575-457a-8af8-beb4b6b4a48a",
   "metadata": {},
   "outputs": [
    {
     "data": {
      "text/plain": [
       "['nit']"
      ]
     },
     "execution_count": 29,
     "metadata": {},
     "output_type": "execute_result"
    }
   ],
   "source": [
    "l1[-1:]"
   ]
  },
  {
   "cell_type": "code",
   "execution_count": 30,
   "id": "21706071-bf6c-423d-96e4-6f927af1ac19",
   "metadata": {},
   "outputs": [
    {
     "data": {
      "text/plain": [
       "[10, 20, 15, 30, 40, 50]"
      ]
     },
     "execution_count": 30,
     "metadata": {},
     "output_type": "execute_result"
    }
   ],
   "source": [
    "l1[:-1]"
   ]
  },
  {
   "cell_type": "code",
   "execution_count": 31,
   "id": "3c7be88d-ad28-4e52-a579-bf62a14b2e67",
   "metadata": {},
   "outputs": [],
   "source": [
    "l1.reverse()\n"
   ]
  },
  {
   "cell_type": "code",
   "execution_count": 32,
   "id": "318adcbe-68b0-4c7a-81bb-07a99cf361f8",
   "metadata": {},
   "outputs": [
    {
     "data": {
      "text/plain": [
       "['nit', 50, 40, 30, 15, 20, 10]"
      ]
     },
     "execution_count": 32,
     "metadata": {},
     "output_type": "execute_result"
    }
   ],
   "source": [
    "l1"
   ]
  },
  {
   "cell_type": "code",
   "execution_count": null,
   "id": "5dcb0a5e-4399-4c10-b39e-b3ef75297587",
   "metadata": {},
   "outputs": [],
   "source": []
  }
 ],
 "metadata": {
  "kernelspec": {
   "display_name": "Python [conda env:base] *",
   "language": "python",
   "name": "conda-base-py"
  },
  "language_info": {
   "codemirror_mode": {
    "name": "ipython",
    "version": 3
   },
   "file_extension": ".py",
   "mimetype": "text/x-python",
   "name": "python",
   "nbconvert_exporter": "python",
   "pygments_lexer": "ipython3",
   "version": "3.12.7"
  }
 },
 "nbformat": 4,
 "nbformat_minor": 5
}
