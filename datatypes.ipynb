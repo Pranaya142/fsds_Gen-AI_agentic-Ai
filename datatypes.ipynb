{
 "cells": [
  {
   "cell_type": "code",
   "execution_count": 1,
   "id": "1d1194c0",
   "metadata": {},
   "outputs": [
    {
     "data": {
      "text/plain": [
       "int"
      ]
     },
     "execution_count": 1,
     "metadata": {},
     "output_type": "execute_result"
    }
   ],
   "source": [
    "i = 5\n",
    "type(i)"
   ]
  },
  {
   "cell_type": "code",
   "execution_count": 2,
   "id": "93e19a8d",
   "metadata": {},
   "outputs": [
    {
     "data": {
      "text/plain": [
       "float"
      ]
     },
     "execution_count": 2,
     "metadata": {},
     "output_type": "execute_result"
    }
   ],
   "source": [
    "f =100.60\n",
    "type(f)\n"
   ]
  },
  {
   "cell_type": "code",
   "execution_count": 3,
   "id": "26277214",
   "metadata": {},
   "outputs": [
    {
     "name": "stdout",
     "output_type": "stream",
     "text": [
      "addition of 10 and 20 is 30\n"
     ]
    }
   ],
   "source": [
    "num1 =10\n",
    "num2 =20\n",
    "add = num1 + num2\n",
    "print('addition of {} and {} is {}'.format(num1,num2,add))"
   ]
  },
  {
   "cell_type": "code",
   "execution_count": 4,
   "id": "71f20b99",
   "metadata": {},
   "outputs": [
    {
     "data": {
      "text/plain": [
       "str"
      ]
     },
     "execution_count": 4,
     "metadata": {},
     "output_type": "execute_result"
    }
   ],
   "source": [
    "s ='python'\n",
    "type(s)"
   ]
  },
  {
   "cell_type": "code",
   "execution_count": 5,
   "id": "ea17b49a",
   "metadata": {},
   "outputs": [],
   "source": [
    "p =20\n",
    "q = 20\n",
    "r = 20\n",
    "p = q = r =20"
   ]
  },
  {
   "cell_type": "code",
   "execution_count": 6,
   "id": "fc9650ff",
   "metadata": {},
   "outputs": [
    {
     "name": "stdout",
     "output_type": "stream",
     "text": [
      "140734250888216\n",
      "140734250888216\n",
      "140734250888216\n"
     ]
    }
   ],
   "source": [
    "print(id(p))\n",
    "print(id(q))\n",
    "print(id(r))\n"
   ]
  },
  {
   "cell_type": "code",
   "execution_count": 7,
   "id": "6ab5dd4b",
   "metadata": {},
   "outputs": [],
   "source": [
    "p1,q1,r1 = 20, 24,30"
   ]
  },
  {
   "cell_type": "code",
   "execution_count": 8,
   "id": "b6b23da7",
   "metadata": {},
   "outputs": [
    {
     "name": "stdout",
     "output_type": "stream",
     "text": [
      "140734250888216\n",
      "140734250888344\n",
      "140734250888536\n"
     ]
    }
   ],
   "source": [
    "print(id(p1))\n",
    "print(id(q1))\n",
    "print(id(r1))"
   ]
  },
  {
   "cell_type": "code",
   "execution_count": 9,
   "id": "0791c2d6",
   "metadata": {},
   "outputs": [
    {
     "data": {
      "text/plain": [
       "'hello python'"
      ]
     },
     "execution_count": 9,
     "metadata": {},
     "output_type": "execute_result"
    }
   ],
   "source": [
    "s= 'hello python'\n",
    "s"
   ]
  },
  {
   "cell_type": "code",
   "execution_count": 10,
   "id": "c263296c",
   "metadata": {},
   "outputs": [
    {
     "ename": "NameError",
     "evalue": "name 'char' is not defined",
     "output_type": "error",
     "traceback": [
      "\u001b[1;31m---------------------------------------------------------------------------\u001b[0m",
      "\u001b[1;31mNameError\u001b[0m                                 Traceback (most recent call last)",
      "Cell \u001b[1;32mIn[10], line 1\u001b[0m\n\u001b[1;32m----> 1\u001b[0m char(s)\n",
      "\u001b[1;31mNameError\u001b[0m: name 'char' is not defined"
     ]
    }
   ],
   "source": [
    "char(s)"
   ]
  },
  {
   "cell_type": "code",
   "execution_count": 11,
   "id": "257c2b97",
   "metadata": {},
   "outputs": [
    {
     "data": {
      "text/plain": [
       "12"
      ]
     },
     "execution_count": 11,
     "metadata": {},
     "output_type": "execute_result"
    }
   ],
   "source": [
    "len(s)"
   ]
  },
  {
   "cell_type": "code",
   "execution_count": null,
   "id": "78c04026",
   "metadata": {},
   "outputs": [
    {
     "data": {
      "text/plain": [
       "'h'"
      ]
     },
     "execution_count": 12,
     "metadata": {},
     "output_type": "execute_result"
    }
   ],
   "source": [
    "s[0]   #forward index"
   ]
  },
  {
   "cell_type": "code",
   "execution_count": null,
   "id": "7673a93a",
   "metadata": {},
   "outputs": [
    {
     "data": {
      "text/plain": [
       "'n'"
      ]
     },
     "execution_count": 13,
     "metadata": {},
     "output_type": "execute_result"
    }
   ],
   "source": [
    "s[-1]   #backward index"
   ]
  },
  {
   "cell_type": "code",
   "execution_count": 17,
   "id": "6c894ea7",
   "metadata": {},
   "outputs": [
    {
     "ename": "AttributeError",
     "evalue": "'str' object has no attribute 'range'",
     "output_type": "error",
     "traceback": [
      "\u001b[1;31m---------------------------------------------------------------------------\u001b[0m",
      "\u001b[1;31mAttributeError\u001b[0m                            Traceback (most recent call last)",
      "Cell \u001b[1;32mIn[17], line 1\u001b[0m\n\u001b[1;32m----> 1\u001b[0m s\u001b[38;5;241m.\u001b[39mrange(\u001b[38;5;241m0\u001b[39m,\u001b[38;5;241m5\u001b[39m)\n",
      "\u001b[1;31mAttributeError\u001b[0m: 'str' object has no attribute 'range'"
     ]
    }
   ],
   "source": [
    "s.range(0,5)"
   ]
  },
  {
   "cell_type": "code",
   "execution_count": 18,
   "id": "39f33768",
   "metadata": {},
   "outputs": [
    {
     "data": {
      "text/plain": [
       "'ytho'"
      ]
     },
     "execution_count": 18,
     "metadata": {},
     "output_type": "execute_result"
    }
   ],
   "source": [
    "s[-5:-1]"
   ]
  },
  {
   "cell_type": "code",
   "execution_count": 19,
   "id": "1e3d8832",
   "metadata": {},
   "outputs": [
    {
     "data": {
      "text/plain": [
       "'python'"
      ]
     },
     "execution_count": 19,
     "metadata": {},
     "output_type": "execute_result"
    }
   ],
   "source": [
    "s[6:13]"
   ]
  },
  {
   "cell_type": "code",
   "execution_count": 20,
   "id": "5cbd349f",
   "metadata": {},
   "outputs": [
    {
     "data": {
      "text/plain": [
       "'ello python'"
      ]
     },
     "execution_count": 20,
     "metadata": {},
     "output_type": "execute_result"
    }
   ],
   "source": [
    "s[1:]"
   ]
  },
  {
   "cell_type": "code",
   "execution_count": 21,
   "id": "f170d9f2",
   "metadata": {},
   "outputs": [
    {
     "data": {
      "text/plain": [
       "'hello python'"
      ]
     },
     "execution_count": 21,
     "metadata": {},
     "output_type": "execute_result"
    }
   ],
   "source": [
    "s[0:]"
   ]
  },
  {
   "cell_type": "code",
   "execution_count": 22,
   "id": "522e7757",
   "metadata": {},
   "outputs": [
    {
     "data": {
      "text/plain": [
       "'hello'"
      ]
     },
     "execution_count": 22,
     "metadata": {},
     "output_type": "execute_result"
    }
   ],
   "source": [
    "s[:5]"
   ]
  },
  {
   "cell_type": "code",
   "execution_count": 23,
   "id": "27f2e45b",
   "metadata": {},
   "outputs": [
    {
     "data": {
      "text/plain": [
       "'nohtyp olleh'"
      ]
     },
     "execution_count": 23,
     "metadata": {},
     "output_type": "execute_result"
    }
   ],
   "source": [
    "s[::-1]\n"
   ]
  },
  {
   "cell_type": "code",
   "execution_count": 24,
   "id": "7c069e6f",
   "metadata": {},
   "outputs": [
    {
     "data": {
      "text/plain": [
       "'hello python'"
      ]
     },
     "execution_count": 24,
     "metadata": {},
     "output_type": "execute_result"
    }
   ],
   "source": [
    "s"
   ]
  },
  {
   "cell_type": "code",
   "execution_count": 25,
   "id": "f83b050c",
   "metadata": {},
   "outputs": [
    {
     "data": {
      "text/plain": [
       "'hy'"
      ]
     },
     "execution_count": 25,
     "metadata": {},
     "output_type": "execute_result"
    }
   ],
   "source": [
    "s[0:13:7]"
   ]
  },
  {
   "cell_type": "code",
   "execution_count": 26,
   "id": "0919f7c2",
   "metadata": {},
   "outputs": [
    {
     "data": {
      "text/plain": [
       "'h '"
      ]
     },
     "execution_count": 26,
     "metadata": {},
     "output_type": "execute_result"
    }
   ],
   "source": [
    "s[0:10:5]"
   ]
  },
  {
   "cell_type": "code",
   "execution_count": 27,
   "id": "c8857bb6",
   "metadata": {},
   "outputs": [
    {
     "ename": "NameError",
     "evalue": "name 'np' is not defined",
     "output_type": "error",
     "traceback": [
      "\u001b[1;31m---------------------------------------------------------------------------\u001b[0m",
      "\u001b[1;31mNameError\u001b[0m                                 Traceback (most recent call last)",
      "Cell \u001b[1;32mIn[27], line 1\u001b[0m\n\u001b[1;32m----> 1\u001b[0m \u001b[38;5;28mtype\u001b[39m(np\u001b[38;5;241m.\u001b[39mnan)\n",
      "\u001b[1;31mNameError\u001b[0m: name 'np' is not defined"
     ]
    }
   ],
   "source": [
    "type(np.nan)"
   ]
  },
  {
   "cell_type": "code",
   "execution_count": 28,
   "id": "c4695c0a",
   "metadata": {},
   "outputs": [
    {
     "name": "stderr",
     "output_type": "stream",
     "text": [
      "C:\\Users\\komme\\AppData\\Local\\Temp\\ipykernel_2228\\260406693.py:1: DeprecationWarning: 'nntplib' is deprecated and slated for removal in Python 3.13\n",
      "  import nntplib\n"
     ]
    },
    {
     "ename": "NameError",
     "evalue": "name 'np' is not defined",
     "output_type": "error",
     "traceback": [
      "\u001b[1;31m---------------------------------------------------------------------------\u001b[0m",
      "\u001b[1;31mNameError\u001b[0m                                 Traceback (most recent call last)",
      "Cell \u001b[1;32mIn[28], line 2\u001b[0m\n\u001b[0;32m      1\u001b[0m \u001b[38;5;28;01mimport\u001b[39;00m \u001b[38;5;21;01mnntplib\u001b[39;00m\n\u001b[1;32m----> 2\u001b[0m s\u001b[38;5;241m=\u001b[39mnp\u001b[38;5;241m.\u001b[39mnan\n",
      "\u001b[1;31mNameError\u001b[0m: name 'np' is not defined"
     ]
    }
   ],
   "source": [
    "import nntplib\n",
    "s=np.nan"
   ]
  },
  {
   "cell_type": "code",
   "execution_count": null,
   "id": "c9e0c851",
   "metadata": {},
   "outputs": [],
   "source": []
  }
 ],
 "metadata": {
  "kernelspec": {
   "display_name": "base",
   "language": "python",
   "name": "python3"
  },
  "language_info": {
   "codemirror_mode": {
    "name": "ipython",
    "version": 3
   },
   "file_extension": ".py",
   "mimetype": "text/x-python",
   "name": "python",
   "nbconvert_exporter": "python",
   "pygments_lexer": "ipython3",
   "version": "3.12.7"
  }
 },
 "nbformat": 4,
 "nbformat_minor": 5
}
