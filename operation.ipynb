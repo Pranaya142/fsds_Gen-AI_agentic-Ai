{
 "cells": [
  {
   "cell_type": "code",
   "execution_count": null,
   "id": "b7ac47c3",
   "metadata": {},
   "outputs": [
    {
     "data": {
      "text/plain": [
       "60"
      ]
     },
     "execution_count": 1,
     "metadata": {},
     "output_type": "execute_result"
    }
   ],
   "source": [
    "s = 20\n",
    "r = 40\n",
    "s + r    # addition"
   ]
  },
  {
   "cell_type": "code",
   "execution_count": 2,
   "id": "3d52b82d",
   "metadata": {},
   "outputs": [
    {
     "name": "stdout",
     "output_type": "stream",
     "text": [
      "60\n"
     ]
    }
   ],
   "source": [
    "print(s+r)"
   ]
  },
  {
   "cell_type": "code",
   "execution_count": null,
   "id": "bb67ec84",
   "metadata": {},
   "outputs": [
    {
     "data": {
      "text/plain": [
       "-20"
      ]
     },
     "execution_count": 3,
     "metadata": {},
     "output_type": "execute_result"
    }
   ],
   "source": [
    "s - r    #subtraction"
   ]
  },
  {
   "cell_type": "code",
   "execution_count": 4,
   "id": "01cecd2d",
   "metadata": {},
   "outputs": [
    {
     "data": {
      "text/plain": [
       "800"
      ]
     },
     "execution_count": 4,
     "metadata": {},
     "output_type": "execute_result"
    }
   ],
   "source": [
    "s * r    #multiplication\n"
   ]
  },
  {
   "cell_type": "code",
   "execution_count": 5,
   "id": "8fa484fe",
   "metadata": {},
   "outputs": [
    {
     "data": {
      "text/plain": [
       "0.5"
      ]
     },
     "execution_count": 5,
     "metadata": {},
     "output_type": "execute_result"
    }
   ],
   "source": [
    "s / r    #division"
   ]
  },
  {
   "cell_type": "code",
   "execution_count": 6,
   "id": "7224df6c",
   "metadata": {},
   "outputs": [
    {
     "name": "stdout",
     "output_type": "stream",
     "text": [
      "60\n",
      "-20\n",
      "800\n",
      "0.5\n"
     ]
    }
   ],
   "source": [
    "print(s  + r)\n",
    "print(s - r)\n",
    "print(s * r)\n",
    "print(s / r)"
   ]
  },
  {
   "cell_type": "code",
   "execution_count": null,
   "id": "e0fa2874",
   "metadata": {},
   "outputs": [],
   "source": []
  }
 ],
 "metadata": {
  "kernelspec": {
   "display_name": "base",
   "language": "python",
   "name": "python3"
  },
  "language_info": {
   "codemirror_mode": {
    "name": "ipython",
    "version": 3
   },
   "file_extension": ".py",
   "mimetype": "text/x-python",
   "name": "python",
   "nbconvert_exporter": "python",
   "pygments_lexer": "ipython3",
   "version": "3.12.7"
  }
 },
 "nbformat": 4,
 "nbformat_minor": 5
}
